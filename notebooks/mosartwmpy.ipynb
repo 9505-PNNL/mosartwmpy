{
 "cells": [
  {
   "cell_type": "code",
   "execution_count": 1,
   "id": "66bf4304",
   "metadata": {},
   "outputs": [
    {
     "ename": "ImportError",
     "evalue": "dlopen(/Users/thur961/.pyenv/versions/anaconda3-2020.11/envs/mosartwmpy/lib/python3.9/site-packages/cartopy/_crs.cpython-39-darwin.so, 2): Symbol not found: _pj_free\n  Referenced from: /Users/thur961/.pyenv/versions/anaconda3-2020.11/envs/mosartwmpy/lib/python3.9/site-packages/cartopy/_crs.cpython-39-darwin.so\n  Expected in: flat namespace\n in /Users/thur961/.pyenv/versions/anaconda3-2020.11/envs/mosartwmpy/lib/python3.9/site-packages/cartopy/_crs.cpython-39-darwin.so",
     "output_type": "error",
     "traceback": [
      "\u001b[0;31m---------------------------------------------------------------------------\u001b[0m",
      "\u001b[0;31mImportError\u001b[0m                               Traceback (most recent call last)",
      "\u001b[0;32m<ipython-input-1-f39beace4730>\u001b[0m in \u001b[0;36m<module>\u001b[0;34m\u001b[0m\n\u001b[1;32m      2\u001b[0m \u001b[0;32mimport\u001b[0m \u001b[0mmatplotlib\u001b[0m\u001b[0;34m.\u001b[0m\u001b[0mpyplot\u001b[0m \u001b[0;32mas\u001b[0m \u001b[0mplt\u001b[0m\u001b[0;34m\u001b[0m\u001b[0;34m\u001b[0m\u001b[0m\n\u001b[1;32m      3\u001b[0m \u001b[0;32mimport\u001b[0m \u001b[0mxarray\u001b[0m \u001b[0;32mas\u001b[0m \u001b[0mxr\u001b[0m\u001b[0;34m\u001b[0m\u001b[0;34m\u001b[0m\u001b[0m\n\u001b[0;32m----> 4\u001b[0;31m \u001b[0;32mimport\u001b[0m \u001b[0mcartopy\u001b[0m\u001b[0;34m.\u001b[0m\u001b[0mcrs\u001b[0m \u001b[0;32mas\u001b[0m \u001b[0mccrs\u001b[0m\u001b[0;34m\u001b[0m\u001b[0;34m\u001b[0m\u001b[0m\n\u001b[0m",
      "\u001b[0;32m~/.pyenv/versions/anaconda3-2020.11/envs/mosartwmpy/lib/python3.9/site-packages/cartopy/__init__.py\u001b[0m in \u001b[0;36m<module>\u001b[0;34m\u001b[0m\n\u001b[1;32m    102\u001b[0m \u001b[0;31m# Commonly used sub-modules. Imported here to provide end-user\u001b[0m\u001b[0;34m\u001b[0m\u001b[0;34m\u001b[0m\u001b[0;34m\u001b[0m\u001b[0m\n\u001b[1;32m    103\u001b[0m \u001b[0;31m# convenience.\u001b[0m\u001b[0;34m\u001b[0m\u001b[0;34m\u001b[0m\u001b[0;34m\u001b[0m\u001b[0m\n\u001b[0;32m--> 104\u001b[0;31m \u001b[0;32mimport\u001b[0m \u001b[0mcartopy\u001b[0m\u001b[0;34m.\u001b[0m\u001b[0mcrs\u001b[0m\u001b[0;34m\u001b[0m\u001b[0;34m\u001b[0m\u001b[0m\n\u001b[0m\u001b[1;32m    105\u001b[0m \u001b[0;32mimport\u001b[0m \u001b[0mcartopy\u001b[0m\u001b[0;34m.\u001b[0m\u001b[0mfeature\u001b[0m  \u001b[0;31m# noqa: F401  (flake8 = unused import)\u001b[0m\u001b[0;34m\u001b[0m\u001b[0;34m\u001b[0m\u001b[0m\n",
      "\u001b[0;32m~/.pyenv/versions/anaconda3-2020.11/envs/mosartwmpy/lib/python3.9/site-packages/cartopy/crs.py\u001b[0m in \u001b[0;36m<module>\u001b[0;34m\u001b[0m\n\u001b[1;32m     20\u001b[0m \u001b[0;32mfrom\u001b[0m \u001b[0mshapely\u001b[0m\u001b[0;34m.\u001b[0m\u001b[0mprepared\u001b[0m \u001b[0;32mimport\u001b[0m \u001b[0mprep\u001b[0m\u001b[0;34m\u001b[0m\u001b[0;34m\u001b[0m\u001b[0m\n\u001b[1;32m     21\u001b[0m \u001b[0;34m\u001b[0m\u001b[0m\n\u001b[0;32m---> 22\u001b[0;31m from cartopy._crs import (CRS, Geodetic, Globe, PROJ4_VERSION,\n\u001b[0m\u001b[1;32m     23\u001b[0m                           WGS84_SEMIMAJOR_AXIS, WGS84_SEMIMINOR_AXIS)\n\u001b[1;32m     24\u001b[0m \u001b[0;32mfrom\u001b[0m \u001b[0mcartopy\u001b[0m\u001b[0;34m.\u001b[0m\u001b[0m_crs\u001b[0m \u001b[0;32mimport\u001b[0m \u001b[0mGeocentric\u001b[0m  \u001b[0;31m# noqa: F401 (flake8 = unused import)\u001b[0m\u001b[0;34m\u001b[0m\u001b[0;34m\u001b[0m\u001b[0m\n",
      "\u001b[0;31mImportError\u001b[0m: dlopen(/Users/thur961/.pyenv/versions/anaconda3-2020.11/envs/mosartwmpy/lib/python3.9/site-packages/cartopy/_crs.cpython-39-darwin.so, 2): Symbol not found: _pj_free\n  Referenced from: /Users/thur961/.pyenv/versions/anaconda3-2020.11/envs/mosartwmpy/lib/python3.9/site-packages/cartopy/_crs.cpython-39-darwin.so\n  Expected in: flat namespace\n in /Users/thur961/.pyenv/versions/anaconda3-2020.11/envs/mosartwmpy/lib/python3.9/site-packages/cartopy/_crs.cpython-39-darwin.so"
     ]
    }
   ],
   "source": [
    "from mosartwmpy import Model\n",
    "import matplotlib.pyplot as plt\n",
    "import xarray as xr\n",
    "import cartopy.crs as ccrs"
   ]
  },
  {
   "cell_type": "code",
   "execution_count": 2,
   "id": "5455939d",
   "metadata": {},
   "outputs": [
    {
     "name": "stdout",
     "output_type": "stream",
     "text": [
      "Initalizing model...\n",
      "Done.\n",
      "Beginning simulation for 1981-05-01 through 1981-05-31...\n",
      "Current model time is 1981-05-01 00:00:00...\n",
      "Simulation completed in 19 minutes and 34 seconds.\n"
     ]
    }
   ],
   "source": [
    "mosart_wm = Model()\n",
    "mosart_wm.initialize('./config.yaml')\n",
    "mosart_wm.update_until(mosart_wm.get_end_time())"
   ]
  },
  {
   "cell_type": "code",
   "execution_count": null,
   "id": "948c0ac3",
   "metadata": {},
   "outputs": [],
   "source": [
    "plt.rcParams[\"figure.figsize\"] = (17, 9) # (w, h)\n",
    "plt.axes().set_facecolor('#fafafa')\n",
    "deficit = xr.DataArray(\n",
    "    mosart_wm.get_value_ptr('deficit_water_amount').reshape(mosart_wm.get_grid_shape()),\n",
    "    name='Water Deficit', dims=['latitude', 'longitude'],\n",
    "    coords={'latitude': mosart_wm.get_grid_x(), 'longitude': mosart_wm.get_grid_y()},\n",
    "    attrs={'units': mosart_wm.get_var_units('deficit_water_amount')})\n",
    "deficit.where(deficit > 0).plot(robust=True, levels=16, cmap='OrRd')\n",
    "plt.title(\"Water Deficit\")"
   ]
  },
  {
   "cell_type": "code",
   "execution_count": null,
   "id": "35e66bf6",
   "metadata": {},
   "outputs": [],
   "source": []
  }
 ],
 "metadata": {
  "kernelspec": {
   "display_name": "Python 3",
   "language": "python",
   "name": "python3"
  },
  "language_info": {
   "codemirror_mode": {
    "name": "ipython",
    "version": 3
   },
   "file_extension": ".py",
   "mimetype": "text/x-python",
   "name": "python",
   "nbconvert_exporter": "python",
   "pygments_lexer": "ipython3",
   "version": "3.9.4"
  }
 },
 "nbformat": 4,
 "nbformat_minor": 5
}
